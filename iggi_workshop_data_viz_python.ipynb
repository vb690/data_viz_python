{
 "cells": [
  {
   "cell_type": "code",
   "execution_count": 24,
   "metadata": {},
   "outputs": [],
   "source": [
    "import random\n",
    "import string\n",
    "\n",
    "import numpy as np\n",
    "import scipy as sp\n",
    "\n",
    "import pandas as pd\n",
    "\n",
    "from sklearn.model_selection import StratifiedShuffleSplit\n",
    "\n",
    "import matplotlib.pyplot as plt\n",
    "import seaborn as sns"
   ]
  },
  {
   "cell_type": "code",
   "execution_count": 25,
   "metadata": {},
   "outputs": [],
   "source": [
    "def generate_string(lenght):\n",
    "    return ''.join(random.choices(string.ascii_uppercase + string.ascii_lowercase, k=lenght))\n",
    "\n",
    "def categorical_noise(column, ammount):\n",
    "    ammount = int(len(column) * ammount)\n",
    "    sample = random.choices(column.index, k=ammount)\n",
    "    string = generate_string(5)\n",
    "    column.loc[sample] = column.loc[sample].apply(lambda x: string)\n",
    "    return column\n",
    "\n",
    "def scalar_noise(column, ammount):\n",
    "    ammount = int(len(column) * ammount)\n",
    "    sample = random.choices(column.index, k=ammount)\n",
    "    std = column.std()\n",
    "    column.loc[sample] = column.loc[sample].apply(lambda x: x + std*10)\n",
    "    return column\n",
    "        \n",
    "def add_noise (df, n_columns):\n",
    "    columns = list(df)\n",
    "    for column in random.choices(columns, k=n_columns):\n",
    "        \n",
    "        if df[column].dtype == 'object':\n",
    "            df[column] = categorical_noise(df[column], 0.5)\n",
    "        elif df[column].dtype in ['int64', 'int32', 'float64', 'float32']:\n",
    "            df[column] = scalar_noise(df[column], 0.5)\n",
    "    \n",
    "    return df\n"
   ]
  },
  {
   "cell_type": "code",
   "execution_count": 26,
   "metadata": {},
   "outputs": [
    {
     "name": "stderr",
     "output_type": "stream",
     "text": [
      "c:\\users\\penthotal\\appdata\\local\\programs\\python\\python36\\lib\\site-packages\\pandas\\core\\indexing.py:179: SettingWithCopyWarning: \n",
      "A value is trying to be set on a copy of a slice from a DataFrame\n",
      "\n",
      "See the caveats in the documentation: http://pandas.pydata.org/pandas-docs/stable/indexing.html#indexing-view-versus-copy\n",
      "  self._setitem_with_indexer(indexer, value)\n"
     ]
    }
   ],
   "source": [
    "df = pd.read_csv('C:\\\\Users\\\\penthotal\\\\Desktop\\\\IGGI\\\\collaborations\\\\personal_projects\\\\data_viz_python\\\\data\\\\dataframe.csv')\n",
    "noise_df = df = add_noise(df, 5)"
   ]
  },
  {
   "cell_type": "markdown",
   "metadata": {},
   "source": [
    "WHAT, WHY, WHERE, HOW DATA VISUALIZATION"
   ]
  },
  {
   "cell_type": "code",
   "execution_count": null,
   "metadata": {},
   "outputs": [],
   "source": []
  },
  {
   "cell_type": "markdown",
   "metadata": {},
   "source": [
    "BRIEF INTRODUCTION PANDAS DATAFRAMES, MATPLOTLIB AND SEABORN"
   ]
  },
  {
   "cell_type": "markdown",
   "metadata": {},
   "source": [
    "EXPLORATORY DATA VISUALIZATION\n",
    "\n",
    "* distplot and count plot\n",
    "* ridge plot\n",
    "* Joint kernel density estimate"
   ]
  },
  {
   "cell_type": "code",
   "execution_count": null,
   "metadata": {},
   "outputs": [],
   "source": []
  },
  {
   "cell_type": "markdown",
   "metadata": {},
   "source": [
    "EXERCISE 1\n",
    "\n",
    "* discover the characteristics of the dataframe you are working on\n",
    "* discover anomalies in the data\n",
    "* revelation of the data source"
   ]
  },
  {
   "cell_type": "code",
   "execution_count": null,
   "metadata": {},
   "outputs": [],
   "source": []
  },
  {
   "cell_type": "markdown",
   "metadata": {},
   "source": [
    "DATA VISUALIZATION FOR HYPOTHESIS TESTING\n",
    "* line plot\n",
    "* scatter plot and confusion matrix\n",
    "* boxplot"
   ]
  },
  {
   "cell_type": "code",
   "execution_count": null,
   "metadata": {},
   "outputs": [],
   "source": []
  },
  {
   "cell_type": "markdown",
   "metadata": {},
   "source": [
    "EXERCISE 2\n",
    "* find and test your own hp!"
   ]
  },
  {
   "cell_type": "code",
   "execution_count": null,
   "metadata": {},
   "outputs": [],
   "source": []
  },
  {
   "cell_type": "markdown",
   "metadata": {},
   "source": [
    "DATA VISUALIZATION FOR MODEL EVALUATION\n",
    "* model performance (line plot, box plot)\n",
    "* model accuracy (line plot, boxplot, confusion matrix)\n",
    "* model inspection (scatter plot)"
   ]
  },
  {
   "cell_type": "code",
   "execution_count": null,
   "metadata": {},
   "outputs": [],
   "source": []
  },
  {
   "cell_type": "markdown",
   "metadata": {},
   "source": [
    "EXERCISE 3"
   ]
  },
  {
   "cell_type": "code",
   "execution_count": null,
   "metadata": {},
   "outputs": [],
   "source": []
  }
 ],
 "metadata": {
  "kernelspec": {
   "display_name": "Python 3",
   "language": "python",
   "name": "python3"
  },
  "language_info": {
   "codemirror_mode": {
    "name": "ipython",
    "version": 3
   },
   "file_extension": ".py",
   "mimetype": "text/x-python",
   "name": "python",
   "nbconvert_exporter": "python",
   "pygments_lexer": "ipython3",
   "version": "3.6.2"
  }
 },
 "nbformat": 4,
 "nbformat_minor": 2
}
